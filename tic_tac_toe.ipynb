{
  "nbformat": 4,
  "nbformat_minor": 0,
  "metadata": {
    "colab": {
      "name": "tic_tac_toe.ipynb",
      "provenance": [],
      "collapsed_sections": [],
      "authorship_tag": "ABX9TyM3Yu3v33LePJuP0qYMm0G5",
      "include_colab_link": true
    },
    "kernelspec": {
      "name": "python3",
      "display_name": "Python 3"
    },
    "language_info": {
      "name": "python"
    }
  },
  "cells": [
    {
      "cell_type": "markdown",
      "metadata": {
        "id": "view-in-github",
        "colab_type": "text"
      },
      "source": [
        "<a href=\"https://colab.research.google.com/github/akilanmc/python_games/blob/main/tic_tac_toe.ipynb\" target=\"_parent\"><img src=\"https://colab.research.google.com/assets/colab-badge.svg\" alt=\"Open In Colab\"/></a>"
      ]
    },
    {
      "cell_type": "markdown",
      "metadata": {
        "id": "fcfoNPK2HE18"
      },
      "source": [
        "**Algorithm**\n",
        "1. Prepare the display board\n",
        "2. Show example board with numbers during first display\n",
        "3. User input - Grab input(X or O) for Player 1 and assign other to Player 2\n",
        "4. User input - Grab index position for Player 1 and validate\n",
        "5. Display - Show the updated board after Player 1 input\n",
        "6. User input - Grab index position for Player 2 and validate\n",
        "7. Display - Show the updated board after Player 2 input\n",
        "8. Iterate steps 4 till 7 for till win or draw.\n",
        "9. Validate and throw error if existing value position selected.\n",
        "10. Win/draw/Lose check - Check for the pattern. If any three condition satisfy, abort the game with result\n",
        "\n"
      ]
    },
    {
      "cell_type": "code",
      "metadata": {
        "id": "pPAIW80m35LJ"
      },
      "source": [
        "from IPython.display import clear_output\n",
        "\n",
        "def board_display():\n",
        "  z = 0\n",
        "  clear_output()\n",
        "  \n",
        "  for x in range(5):\n",
        "    if x % 2 == 0:\n",
        "      print(' | '.join(str(y) for y in board[z]))\n",
        "      z += 1\n",
        "    else:\n",
        "      print('-'*9)"
      ],
      "execution_count": null,
      "outputs": []
    },
    {
      "cell_type": "code",
      "metadata": {
        "id": "q9KTKIxQDovo"
      },
      "source": [
        "def index_validation(ip):\n",
        "  is_digit = False\n",
        "  is_range = False\n",
        "  is_avail = False\n",
        "\n",
        "  if ip.isdigit():\n",
        "    is_digit = True\n",
        "    if int(ip) in range(1, 10):\n",
        "      is_range = True\n",
        "      q, r = divmod(int(ip)-1, 3)\n",
        "      if board[q][r] == ' ':\n",
        "        is_avail = True\n",
        "  \n",
        "  return (is_digit, is_range, is_avail)"
      ],
      "execution_count": null,
      "outputs": []
    },
    {
      "cell_type": "code",
      "metadata": {
        "id": "qopjolDw2FEj"
      },
      "source": [
        "def input_update():\n",
        "  global current_player\n",
        "  \n",
        "  #Gather input\n",
        "  ip = input(f'\\n{current_player} - Select your index position: ')\n",
        "  is_digit, is_range, is_avail = index_validation(ip)\n",
        "\n",
        "  #Input validation\n",
        "  while not (is_digit and is_range and is_avail):\n",
        "    if is_digit == False:\n",
        "      ip = input(f'Invalid digit {current_player} - Select your index position again: ')\n",
        "    elif is_range == False:\n",
        "      ip = input(f'out of range {current_player} - Select your index position again: ')\n",
        "    else:\n",
        "      ip = input(f'Index already choosen {current_player} - Select your index position again: ')\n",
        "    is_digit, is_range, is_avail = index_validation(ip)\n",
        "  else:\n",
        "    q, r = divmod(int(ip)-1, 3)\n",
        "\n",
        "  #Update the position\n",
        "  if current_player == 'Player 1':\n",
        "    board[q][r] = p1_selection\n",
        "    current_player = 'Player 2'\n",
        "  else:\n",
        "    board[q][r] = p2_selection\n",
        "    current_player = 'Player 1'"
      ],
      "execution_count": null,
      "outputs": []
    },
    {
      "cell_type": "code",
      "metadata": {
        "id": "OuLlp3u3S09i"
      },
      "source": [
        "def game_check():\n",
        "  #Win patterns\n",
        "  pattern_one = ['X', 'X', 'X']\n",
        "  pattern_two = ['O', 'O', 'O']\n",
        "\n",
        "  '''\n",
        "  Another solution - can be done using simple hardcode check. Example\n",
        "  board[0] = pattern_one, etc.,\n",
        "  '''\n",
        "  #Horizontal & Vertical Check\n",
        "  for a in range(3):\n",
        "    temp_list = []\n",
        "    if board[a] == pattern_one or board[a] == pattern_two:\n",
        "      return board[a].pop()\n",
        "    for b in range(3):\n",
        "      temp_list.append(board[b][a])\n",
        "      if b == 2 and (temp_list == pattern_one or temp_list == pattern_two):\n",
        "        return temp_list.pop()\n",
        "\n",
        "  #Diagonal items creation\n",
        "  temp_list = []\n",
        "  diagonal_list = []\n",
        "  for y in range(9):\n",
        "    if y % 2 == 0:\n",
        "      q, r = divmod(y, 3)\n",
        "      temp_list.append(board[q][r])\n",
        "  for z in range(5):\n",
        "    if z % 2 == 0:\n",
        "      diagonal_list.append(temp_list[z])\n",
        "  \n",
        "  #Diagonal Check\n",
        "  if diagonal_list == pattern_one or diagonal_list == pattern_two:\n",
        "      return diagonal_list.pop()\n",
        "  else:\n",
        "    temp_list.pop(0)\n",
        "    temp_list.pop(-1)\n",
        "    if temp_list == pattern_one or temp_list == pattern_two:\n",
        "      return temp_list.pop()\n",
        "  \n",
        "  #Still in progress\n",
        "  for x in board:\n",
        "    if ' ' in x:\n",
        "      return 'play'"
      ],
      "execution_count": null,
      "outputs": []
    },
    {
      "cell_type": "code",
      "metadata": {
        "id": "2qkXif0aFeWu"
      },
      "source": [
        "#Main\n",
        "print('Welcome to the Tic Tac Toe Game\\nTic Tac Toe board and its index position, please remember the index position')\n",
        "\n",
        "board = [[1, 2, 3], [4, 5, 6], [7, 8, 9]]\n",
        "board_display()\n",
        "\n",
        "#Reinitializing it\n",
        "board = [[' ', ' ', ' '], [' ', ' ', ' '], [' ', ' ', ' ']]\n",
        "\n",
        "#Player Input and Validation\n",
        "p1_selection = input('\\nPlayer One! Please choose X or O: ').upper()\n",
        "\n",
        "while p1_selection not in ['X', 'O']:\n",
        "  print('That is not a valid entry')\n",
        "  p1_selection = input('Please choose X or O: ').upper()\n",
        "else:\n",
        "  p2_selection = 'O'\n",
        "  if p1_selection == 'O':\n",
        "    p2_selection = 'X'\n",
        "  print('\\nAll good, Lets play!!!')\n",
        "\n",
        "#Pre game variables\n",
        "game = 'play'\n",
        "current_player = 'Player 1'\n",
        "\n",
        "#Game on\n",
        "while game == 'play':\n",
        "  input_update()\n",
        "  board_display()\n",
        "  game = game_check()\n",
        "\n",
        "#Display result\n",
        "if p1_selection == game:\n",
        "  print('\\nCongrats player One! you won')\n",
        "elif p2_selection == game:\n",
        "  print('\\nCongrats player Two! you won')\n",
        "else:\n",
        "  print('\\nIts is a draw. Tough fight both!!!')"
      ],
      "execution_count": null,
      "outputs": []
    }
  ]
}